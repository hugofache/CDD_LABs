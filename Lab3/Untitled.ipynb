{
 "cells": [
  {
   "cell_type": "code",
   "execution_count": 107,
   "id": "93ac1bf2-b7ca-4609-b1a8-7df4d1160b26",
   "metadata": {},
   "outputs": [
    {
     "name": "stdout",
     "output_type": "stream",
     "text": [
      "COM5 - USB-SERIAL CH340 (COM5)\n",
      "COM4 - USB Serial Port (COM4)\n"
     ]
    }
   ],
   "source": [
    "import serial.tools.list_ports\n",
    "ports = list(serial.tools.list_ports.comports())\n",
    "for p in ports:\n",
    "    print(p)"
   ]
  },
  {
   "cell_type": "code",
   "execution_count": 113,
   "id": "2b13f8b9-77da-4253-a809-6a12039d2a0f",
   "metadata": {},
   "outputs": [],
   "source": [
    "import serial\n",
    "import time\n",
    "ser = serial.Serial('COM5', 115200, timeout=10)"
   ]
  },
  {
   "cell_type": "code",
   "execution_count": 151,
   "id": "561e5c25-4c0a-4167-98fe-d9ffe6829153",
   "metadata": {},
   "outputs": [],
   "source": [
    "ser.close()"
   ]
  },
  {
   "cell_type": "code",
   "execution_count": 4,
   "id": "bd6642e4-679e-4a38-b193-e35c90680bc8",
   "metadata": {},
   "outputs": [],
   "source": [
    "#test echo (lab2)\n",
    "#ser.write(b'ABCD EFGHI J')\n",
    "#time.sleep(.001)\n",
    "#print(ser.read(12))\n",
    "#works again after ser close + reset on pynq -> check yusuf testbench for mismatch rx and tx"
   ]
  },
  {
   "cell_type": "code",
   "execution_count": 135,
   "id": "adc4c1a8-0499-4e23-a99a-0ca94b1d40ac",
   "metadata": {},
   "outputs": [
    {
     "name": "stdout",
     "output_type": "stream",
     "text": [
      "A     =  0xfd67fb8995f71a4f0016f2ad3384c532b70e36976907bd1913ec118953a4527bbde79c6432eadeec21ae034f9b8148ac1751edbf8d85ddcad78c8cfc4fe7351f\n",
      "B     =  0xf908f57fce52223a568204a2819d7f8f9e554513217220396f617e52d045a51a7a8b4b4b758419727e16fe8b8350b3f7aece9ae52afca80454d606822caeb306\n",
      "A + B =  0x1f670f10964493c895698f74fb52244c255637baa8a79dd52834d8fdc23e9f7963872e7afa86ef85e9fc501db1ed1fca3c62088a4b88285cf2c62937e7c95e825\n"
     ]
    }
   ],
   "source": [
    "#test mp adder (lab3) (problem: received missing first bit + small bit flips)\n",
    "#GENERATE RANDOM OPERANDS\n",
    "import random\n",
    "import time\n",
    "\n",
    "ser.reset_input_buffer()\n",
    "ser.reset_output_buffer()\n",
    "\n",
    "OPERAND_WIDTH = 512\n",
    "\n",
    "N_BYTES = int(OPERAND_WIDTH/8)\n",
    "\n",
    "A = random.randrange(2**(OPERAND_WIDTH-1), 2**(OPERAND_WIDTH)-1)\n",
    "B = random.randrange(2**(OPERAND_WIDTH-1), 2**(OPERAND_WIDTH)-1)\n",
    "\n",
    "res = A + B\n",
    "\n",
    "print(\"A     = \", hex(A))\n",
    "print(\"B     = \", hex(B))\n",
    "print(\"A + B = \", hex(res))\n",
    "#A_bytes = bytearray.fromhex(format(A, 'x'))\n",
    "#B_bytes = bytearray.fromhex(format(B, 'x'))\n",
    "A_bytes = bytearray.fromhex(format(A, '0{}x'.format(N_BYTES * 2)))\n",
    "B_bytes = bytearray.fromhex(format(B, '0{}x'.format(N_BYTES * 2)))"
   ]
  },
  {
   "cell_type": "code",
   "execution_count": 143,
   "id": "4684a725-b11f-47f9-aaa5-c32d34d133ad",
   "metadata": {},
   "outputs": [
    {
     "name": "stdout",
     "output_type": "stream",
     "text": [
      "A     =  0x800000000000000000000000000000000000000000000000000000000000000000000000000000000000000000000000000000000000000000000000000003e8\n",
      "B     =  0xfffffffffffffffffffffffffffffffffffffffffffffffffffffffffffffffffffffffffffffffffffffffffffffffffffffffffffffffffffffffffff0bdc0\n",
      "A + B =  0x17ffffffffffffffffffffffffffffffffffffffffffffffffffffffffffffffffffffffffffffffffffffffffffffffffffffffffffffffffffffffffff0c1a8\n"
     ]
    }
   ],
   "source": [
    "A = 2**(OPERAND_WIDTH-1)+1000\n",
    "B = 2**(OPERAND_WIDTH)-1000000\n",
    "res = A + B\n",
    "print(\"A     = \", hex(A))\n",
    "print(\"B     = \", hex(B))\n",
    "print(\"A + B = \", hex(res))"
   ]
  },
  {
   "cell_type": "code",
   "execution_count": 149,
   "id": "06f58773-d460-477c-8317-0f00181f7085",
   "metadata": {},
   "outputs": [
    {
     "name": "stdout",
     "output_type": "stream",
     "text": [
      "Result received correctly!\n",
      "Hex Expected =  17ffffffffffffffffffffffffffffffffffffffffffffffffffffffffffffffffffffffffffffffffffffffffffffffffffffffffffffffffffffffffff0c1a8\n",
      "Hex Received =  17ffffffffffffffffffffffffffffffffffffffffffffffffffffffffffffffffffffffffffffffffffffffffffffffffffffffffffffffffffffffffff0c1a8\n",
      "Difference   =                                                                                                                                   \n",
      "A     =  0x800000000000000000000000000000000000000000000000000000000000000000000000000000000000000000000000000000000000000000000000000003e8\n",
      "B     =  0xfffffffffffffffffffffffffffffffffffffffffffffffffffffffffffffffffffffffffffffffffffffffffffffffffffffffffffffffffffffffffff0bdc0\n",
      "A + B =  0x17ffffffffffffffffffffffffffffffffffffffffffffffffffffffffffffffffffffffffffffffffffffffffffffffffffffffffffffffffffffffffff0c1a8\n"
     ]
    }
   ],
   "source": [
    "#SEND THE OPERANDS, READ RESULT and COMPARE\n",
    "#A_bytes = bytearray.fromhex(format(A, 'x'))\n",
    "#B_bytes = bytearray.fromhex(format(B, 'x'))\n",
    "A_bytes = bytearray.fromhex(format(A, '0{}x'.format(N_BYTES * 2)))\n",
    "B_bytes = bytearray.fromhex(format(B, '0{}x'.format(N_BYTES * 2)))\n",
    "#SEND OPERANDS\n",
    "for op_byte in A_bytes:\n",
    "    hex_byte = (\"{0:02x}\".format(op_byte))\n",
    "    ser.write(bytearray.fromhex(hex_byte))\n",
    "    time.sleep(0.001)\n",
    "\n",
    "for op_byte in B_bytes:\n",
    "    hex_byte = (\"{0:02x}\".format(op_byte))\n",
    "    ser.write(bytearray.fromhex(hex_byte))\n",
    "    time.sleep(0.001)\n",
    "\n",
    "time.sleep(0.1)\n",
    "\n",
    "res_rcvd = ser.read(N_BYTES+1)\n",
    "\n",
    "res2 = int.from_bytes(res_rcvd, \"big\")\n",
    "\n",
    "if res2==res:\n",
    "    print(\"Result received correctly!\")\n",
    "else:\n",
    "    print(\"Result INCORRECT!\")\n",
    "    \n",
    "hex_expected = hex(res)[2:].zfill(8)\n",
    "hex_received = hex(res2)[2:].zfill(8)\n",
    "\n",
    "print(\"Hex Expected = \", hex_expected)\n",
    "print(\"Hex Received = \", hex_received)\n",
    "\n",
    "    # Highlight mismatches with '^'\n",
    "diff_string = ''.join(\n",
    "        '^' if a != b else ' ' for a, b in zip(hex_expected, hex_received)\n",
    "    )\n",
    "\n",
    "print(\"Difference   = \", diff_string)\n",
    "print(\"A     = \", hex(A))\n",
    "print(\"B     = \", hex(B))\n",
    "print(\"A + B = \", hex(res))"
   ]
  },
  {
   "cell_type": "code",
   "execution_count": null,
   "id": "8b2492c1-0064-4cb2-807b-6617ec273fb0",
   "metadata": {},
   "outputs": [],
   "source": []
  }
 ],
 "metadata": {
  "kernelspec": {
   "display_name": "Python [conda env:base] *",
   "language": "python",
   "name": "conda-base-py"
  },
  "language_info": {
   "codemirror_mode": {
    "name": "ipython",
    "version": 3
   },
   "file_extension": ".py",
   "mimetype": "text/x-python",
   "name": "python",
   "nbconvert_exporter": "python",
   "pygments_lexer": "ipython3",
   "version": "3.12.7"
  }
 },
 "nbformat": 4,
 "nbformat_minor": 5
}
