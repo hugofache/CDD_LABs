{
 "cells": [
  {
   "cell_type": "code",
   "execution_count": 616,
   "id": "93ac1bf2-b7ca-4609-b1a8-7df4d1160b26",
   "metadata": {},
   "outputs": [
    {
     "name": "stdout",
     "output_type": "stream",
     "text": [
      "COM5 - USB-SERIAL CH340 (COM5)\n",
      "COM4 - USB Serial Port (COM4)\n"
     ]
    }
   ],
   "source": [
    "import serial.tools.list_ports\n",
    "ports = list(serial.tools.list_ports.comports())\n",
    "for p in ports:\n",
    "    print(p)"
   ]
  },
  {
   "cell_type": "code",
   "execution_count": 618,
   "id": "2b13f8b9-77da-4253-a809-6a12039d2a0f",
   "metadata": {},
   "outputs": [],
   "source": [
    "import serial\n",
    "import time\n",
    "ser = serial.Serial('COM5', 115200, timeout=10)"
   ]
  },
  {
   "cell_type": "code",
   "execution_count": 614,
   "id": "561e5c25-4c0a-4167-98fe-d9ffe6829153",
   "metadata": {},
   "outputs": [],
   "source": [
    "ser.close()"
   ]
  },
  {
   "cell_type": "code",
   "execution_count": 41,
   "id": "bd6642e4-679e-4a38-b193-e35c90680bc8",
   "metadata": {},
   "outputs": [
    {
     "ename": "SerialException",
     "evalue": "GetOverlappedResult failed (PermissionError(13, 'Access is denied.', None, 5))",
     "output_type": "error",
     "traceback": [
      "\u001b[1;31m---------------------------------------------------------------------------\u001b[0m",
      "\u001b[1;31mSerialException\u001b[0m                           Traceback (most recent call last)",
      "Cell \u001b[1;32mIn[41], line 4\u001b[0m\n\u001b[0;32m      2\u001b[0m ser\u001b[38;5;241m.\u001b[39mwrite(\u001b[38;5;124mb\u001b[39m\u001b[38;5;124m'\u001b[39m\u001b[38;5;124mABCD EFGHI J\u001b[39m\u001b[38;5;124m'\u001b[39m)\n\u001b[0;32m      3\u001b[0m time\u001b[38;5;241m.\u001b[39msleep(\u001b[38;5;241m.001\u001b[39m)\n\u001b[1;32m----> 4\u001b[0m \u001b[38;5;28mprint\u001b[39m(ser\u001b[38;5;241m.\u001b[39mread(\u001b[38;5;241m12\u001b[39m))\n",
      "File \u001b[1;32m~\\anaconda3\\Lib\\site-packages\\serial\\serialwin32.py:295\u001b[0m, in \u001b[0;36mSerial.read\u001b[1;34m(self, size)\u001b[0m\n\u001b[0;32m    293\u001b[0m     \u001b[38;5;28;01mif\u001b[39;00m \u001b[38;5;129;01mnot\u001b[39;00m result_ok:\n\u001b[0;32m    294\u001b[0m         \u001b[38;5;28;01mif\u001b[39;00m win32\u001b[38;5;241m.\u001b[39mGetLastError() \u001b[38;5;241m!=\u001b[39m win32\u001b[38;5;241m.\u001b[39mERROR_OPERATION_ABORTED:\n\u001b[1;32m--> 295\u001b[0m             \u001b[38;5;28;01mraise\u001b[39;00m SerialException(\u001b[38;5;124m\"\u001b[39m\u001b[38;5;124mGetOverlappedResult failed (\u001b[39m\u001b[38;5;132;01m{!r}\u001b[39;00m\u001b[38;5;124m)\u001b[39m\u001b[38;5;124m\"\u001b[39m\u001b[38;5;241m.\u001b[39mformat(ctypes\u001b[38;5;241m.\u001b[39mWinError()))\n\u001b[0;32m    296\u001b[0m     read \u001b[38;5;241m=\u001b[39m buf\u001b[38;5;241m.\u001b[39mraw[:rc\u001b[38;5;241m.\u001b[39mvalue]\n\u001b[0;32m    297\u001b[0m \u001b[38;5;28;01melse\u001b[39;00m:\n",
      "\u001b[1;31mSerialException\u001b[0m: GetOverlappedResult failed (PermissionError(13, 'Access is denied.', None, 5))"
     ]
    }
   ],
   "source": [
    "#test echo (lab2)\n",
    "#ser.write(b'ABCD EFGHI J')\n",
    "#time.sleep(.001)\n",
    "#print(ser.read(12))\n",
    "#works again after ser close + reset on pynq -> check yusuf testbench for mismatch rx and tx"
   ]
  },
  {
   "cell_type": "code",
   "execution_count": 620,
   "id": "adc4c1a8-0499-4e23-a99a-0ca94b1d40ac",
   "metadata": {},
   "outputs": [
    {
     "name": "stdout",
     "output_type": "stream",
     "text": [
      "A     =  0xec6efa773e5c83250fd4e1d9a2879f1b85fe4a20e7eb1c1c50ef0a2d23cda6d3ac02e846579fb4e8b4ac7bb8a776cc29ac168b05ae97157d2bcf36ec61c6355b\n",
      "B     =  0x92275d4090d7a6382b2acc5c5692f00f3181b869000542deb7293b675444b0591457431bc0b68580f9e8bf553defa362affe6cb69e1890c11b4267956c90830c\n",
      "A + B =  0x17e9657b7cf34295d3affae35f91a8f2ab7800289e7f05efb081845947812572cc05a2b6218563a69ae953b0de5666f8c5c14f7bc4cafa63e47119e81ce56b867\n"
     ]
    }
   ],
   "source": [
    "#test mp adder (lab3) (problem: received missing first bit + small bit flips)\n",
    "#GENERATE RANDOM OPERANDS\n",
    "import random\n",
    "import time\n",
    "\n",
    "ser.reset_input_buffer()\n",
    "ser.reset_output_buffer()\n",
    "\n",
    "OPERAND_WIDTH = 512\n",
    "\n",
    "N_BYTES = int(OPERAND_WIDTH/8)\n",
    "\n",
    "A = random.randrange(2**(OPERAND_WIDTH-1), 2**OPERAND_WIDTH-1)\n",
    "B = random.randrange(2**(OPERAND_WIDTH-1), 2**OPERAND_WIDTH-1)\n",
    "\n",
    "res = A + B\n",
    "\n",
    "print(\"A     = \", hex(A))\n",
    "print(\"B     = \", hex(B))\n",
    "print(\"A + B = \", hex(res))\n",
    "A_bytes = bytearray.fromhex(format(A, 'x'))\n",
    "B_bytes = bytearray.fromhex(format(B, 'x'))"
   ]
  },
  {
   "cell_type": "code",
   "execution_count": null,
   "id": "4684a725-b11f-47f9-aaa5-c32d34d133ad",
   "metadata": {},
   "outputs": [],
   "source": [
    "#A = 2**(OPERAND_WIDTH-1)+1000\n",
    "#B = 2**(OPERAND_WIDTH)-1000000\n",
    "#res = A + B\n",
    "#print(\"A     = \", hex(A))\n",
    "#print(\"B     = \", hex(B))\n",
    "#print(\"A + B = \", hex(res))"
   ]
  },
  {
   "cell_type": "code",
   "execution_count": 742,
   "id": "06f58773-d460-477c-8317-0f00181f7085",
   "metadata": {},
   "outputs": [
    {
     "name": "stdout",
     "output_type": "stream",
     "text": [
      "Result INCORRECT!\n",
      "Hex Expected =  17ffffffffffffffffffffffffffffffffffffffffffffffffffffffffffffffffffffffffffffffffffffffffffffffffffffffffffffffffffffffffff0c1a8\n",
      "Hex Received =  17ffffffffffffffffffffffffffffffefffffffffffffffffffffffffffefffffffffffffffffffffffffffffffffffffffffffffffffffefffffffffff0c1a8\n",
      "Difference   =                                  ^                           ^                                                   ^                \n",
      "A     =  0x800000000000000000000000000000000000000000000000000000000000000000000000000000000000000000000000000000000000000000000000000003e8\n",
      "B     =  0xfffffffffffffffffffffffffffffffffffffffffffffffffffffffffffffffffffffffffffffffffffffffffffffffffffffffffffffffffffffffffff0bdc0\n",
      "A + B =  0x17ffffffffffffffffffffffffffffffffffffffffffffffffffffffffffffffffffffffffffffffffffffffffffffffffffffffffffffffffffffffffff0c1a8\n"
     ]
    }
   ],
   "source": [
    "A_bytes = bytearray.fromhex(format(A, 'x'))\n",
    "B_bytes = bytearray.fromhex(format(B, 'x'))\n",
    "#SEND OPERANDS\n",
    "for op_byte in A_bytes:\n",
    "    hex_byte = (\"{0:02x}\".format(op_byte))\n",
    "    ser.write(bytearray.fromhex(hex_byte))\n",
    "    time.sleep(0.001)\n",
    "\n",
    "for op_byte in B_bytes:\n",
    "    hex_byte = (\"{0:02x}\".format(op_byte))\n",
    "    ser.write(bytearray.fromhex(hex_byte))\n",
    "    time.sleep(0.001)\n",
    "\n",
    "time.sleep(0.1)\n",
    "\n",
    "res_rcvd = ser.read(N_BYTES+1)\n",
    "\n",
    "res2 = int.from_bytes(res_rcvd, \"big\")\n",
    "\n",
    "if res2==res:\n",
    "    print(\"Result received correctly!\")\n",
    "else:\n",
    "    print(\"Result INCORRECT!\")\n",
    "    \n",
    "hex_expected = hex(res)[2:].zfill(8)\n",
    "hex_received = hex(res2)[2:].zfill(8)\n",
    "\n",
    "print(\"Hex Expected = \", hex_expected)\n",
    "print(\"Hex Received = \", hex_received)\n",
    "\n",
    "    # Highlight mismatches with '^'\n",
    "diff_string = ''.join(\n",
    "        '^' if a != b else ' ' for a, b in zip(hex_expected, hex_received)\n",
    "    )\n",
    "\n",
    "print(\"Difference   = \", diff_string)\n",
    "print(\"A     = \", hex(A))\n",
    "print(\"B     = \", hex(B))\n",
    "print(\"A + B = \", hex(res))"
   ]
  },
  {
   "cell_type": "code",
   "execution_count": null,
   "id": "8b2492c1-0064-4cb2-807b-6617ec273fb0",
   "metadata": {},
   "outputs": [],
   "source": []
  }
 ],
 "metadata": {
  "kernelspec": {
   "display_name": "Python [conda env:base] *",
   "language": "python",
   "name": "conda-base-py"
  },
  "language_info": {
   "codemirror_mode": {
    "name": "ipython",
    "version": 3
   },
   "file_extension": ".py",
   "mimetype": "text/x-python",
   "name": "python",
   "nbconvert_exporter": "python",
   "pygments_lexer": "ipython3",
   "version": "3.12.7"
  }
 },
 "nbformat": 4,
 "nbformat_minor": 5
}
