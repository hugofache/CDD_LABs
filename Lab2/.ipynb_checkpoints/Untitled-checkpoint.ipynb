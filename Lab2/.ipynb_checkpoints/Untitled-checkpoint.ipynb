{
 "cells": [
  {
   "cell_type": "code",
   "execution_count": 544,
   "id": "93ac1bf2-b7ca-4609-b1a8-7df4d1160b26",
   "metadata": {},
   "outputs": [
    {
     "name": "stdout",
     "output_type": "stream",
     "text": [
      "COM4 - USB Serial Port (COM4)\n",
      "COM5 - USB-SERIAL CH340 (COM5)\n"
     ]
    }
   ],
   "source": [
    "import serial.tools.list_ports\n",
    "ports = list(serial.tools.list_ports.comports())\n",
    "for p in ports:\n",
    "    print(p)"
   ]
  },
  {
   "cell_type": "code",
   "execution_count": 576,
   "id": "2b13f8b9-77da-4253-a809-6a12039d2a0f",
   "metadata": {},
   "outputs": [],
   "source": [
    "import serial\n",
    "import time\n",
    "ser = serial.Serial('COM5', 115200, timeout=10)"
   ]
  },
  {
   "cell_type": "code",
   "execution_count": 584,
   "id": "561e5c25-4c0a-4167-98fe-d9ffe6829153",
   "metadata": {},
   "outputs": [],
   "source": [
    "ser.close()"
   ]
  },
  {
   "cell_type": "code",
   "execution_count": 536,
   "id": "bd6642e4-679e-4a38-b193-e35c90680bc8",
   "metadata": {},
   "outputs": [
    {
     "name": "stdout",
     "output_type": "stream",
     "text": [
      "b'ABCD EFGHI J'\n"
     ]
    }
   ],
   "source": [
    "#test echo (lab2)\n",
    "ser.write(b'ABCD EFGHI J')\n",
    "time.sleep(.001)\n",
    "print(ser.read(12))\n",
    "#works again after ser close + reset on pynq -> check yusuf testbench for mismatch rx and tx"
   ]
  },
  {
   "cell_type": "code",
   "execution_count": 580,
   "id": "adc4c1a8-0499-4e23-a99a-0ca94b1d40ac",
   "metadata": {},
   "outputs": [
    {
     "name": "stdout",
     "output_type": "stream",
     "text": [
      "A     =  0xef9e9db64ff1e1d986655511d67c7d96aa54e149c4aa978201190838968367bd98acc0093fe76ce2a15dd3dad3bc8c32dd715e3d98571d4a257dde2940b765e1\n",
      "B     =  0x9c879b39d66bcc38b1aeb2024f7860db5577334ed4b57f403ce4feb65939678f48602c0cbf0be54d19dc53789f935f7cb5ce42976c21235c561f461144185d98\n",
      "A + B =  0x18c2638f0265dae123814071425f4de71ffcc1498996016c23dfe06eeefbccf4ce10cec15fef3522fbb3a2753734febaf933fa0d5047840a67b9d243a84cfc379\n",
      "Result INCORRECT!\n",
      "Expected   =  0x18c2638f0265dae123814071425f4de71ffcc1498996016c23dfe06eeefbccf4ce10cec15fef3522fbb3a2753734febaf933fa0d5047840a67b9d243a84cfc379\n",
      "Received   =  0x18c2538f0265dae113814071425f5de71ffcc1498996016c23dfe06eeefbdcf4ce10cec15fef3522fbb3a2752734febaf9340a0d5047840a67b9d243b84d0c379\n"
     ]
    }
   ],
   "source": [
    "#test mp adder (lab3) (problem: received missing first bit + small bit flips)\n",
    "import random\n",
    "import time\n",
    "\n",
    "OPERAND_WIDTH = 512\n",
    "\n",
    "N_BYTES = int(OPERAND_WIDTH/8)\n",
    "\n",
    "A = random.randrange(2**(OPERAND_WIDTH-1), 2**OPERAND_WIDTH-1)\n",
    "B = random.randrange(2**(OPERAND_WIDTH-1), 2**OPERAND_WIDTH-1)\n",
    "\n",
    "res = A + B\n",
    "\n",
    "print(\"A     = \", hex(A))\n",
    "print(\"B     = \", hex(B))\n",
    "print(\"A + B = \", hex(res))\n",
    "\n",
    "A_bytes = bytearray.fromhex(format(A, 'x'))\n",
    "B_bytes = bytearray.fromhex(format(B, 'x'))\n",
    "\n",
    "for op_byte in A_bytes:\n",
    "    hex_byte = (\"{0:02x}\".format(op_byte))\n",
    "    ser.write(bytearray.fromhex(hex_byte))\n",
    "    time.sleep(0.001)\n",
    "\n",
    "for op_byte in B_bytes:\n",
    "    hex_byte = (\"{0:02x}\".format(op_byte))\n",
    "    ser.write(bytearray.fromhex(hex_byte))\n",
    "    time.sleep(0.001)\n",
    "\n",
    "res_rcvd = ser.read(N_BYTES+1) \n",
    "\n",
    "res2 = int.from_bytes(res_rcvd, \"big\")\n",
    "\n",
    "if res2==res:\n",
    "    print(\"Result received correctly!\")\n",
    "    print(\"Expected   = \", hex(res))\n",
    "    print(\"Received   = \", hex(res2))\n",
    "else:\n",
    "    print(\"Result INCORRECT!\")\n",
    "    print(\"Expected   = \", hex(res))\n",
    "    print(\"Received   = \", hex(res2))"
   ]
  }
 ],
 "metadata": {
  "kernelspec": {
   "display_name": "Python [conda env:base] *",
   "language": "python",
   "name": "conda-base-py"
  },
  "language_info": {
   "codemirror_mode": {
    "name": "ipython",
    "version": 3
   },
   "file_extension": ".py",
   "mimetype": "text/x-python",
   "name": "python",
   "nbconvert_exporter": "python",
   "pygments_lexer": "ipython3",
   "version": "3.12.7"
  }
 },
 "nbformat": 4,
 "nbformat_minor": 5
}
