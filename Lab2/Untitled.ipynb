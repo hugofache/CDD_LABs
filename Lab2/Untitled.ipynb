{
 "cells": [
  {
   "cell_type": "code",
   "execution_count": 13,
   "id": "93ac1bf2-b7ca-4609-b1a8-7df4d1160b26",
   "metadata": {},
   "outputs": [
    {
     "name": "stdout",
     "output_type": "stream",
     "text": [
      "COM5 - USB-SERIAL CH340 (COM5)\n",
      "COM4 - USB Serial Port (COM4)\n"
     ]
    }
   ],
   "source": [
    "import serial.tools.list_ports\n",
    "ports = list(serial.tools.list_ports.comports())\n",
    "for p in ports:\n",
    "    print(p)"
   ]
  },
  {
   "cell_type": "code",
   "execution_count": 15,
   "id": "2b13f8b9-77da-4253-a809-6a12039d2a0f",
   "metadata": {},
   "outputs": [],
   "source": [
    "import serial\n",
    "import time\n",
    "ser = serial.Serial('COM5', 115200, timeout=10)"
   ]
  },
  {
   "cell_type": "code",
   "execution_count": 11,
   "id": "561e5c25-4c0a-4167-98fe-d9ffe6829153",
   "metadata": {},
   "outputs": [],
   "source": [
    "ser.close()"
   ]
  },
  {
   "cell_type": "code",
   "execution_count": 41,
   "id": "bd6642e4-679e-4a38-b193-e35c90680bc8",
   "metadata": {},
   "outputs": [
    {
     "ename": "SerialException",
     "evalue": "GetOverlappedResult failed (PermissionError(13, 'Access is denied.', None, 5))",
     "output_type": "error",
     "traceback": [
      "\u001b[1;31m---------------------------------------------------------------------------\u001b[0m",
      "\u001b[1;31mSerialException\u001b[0m                           Traceback (most recent call last)",
      "Cell \u001b[1;32mIn[41], line 4\u001b[0m\n\u001b[0;32m      2\u001b[0m ser\u001b[38;5;241m.\u001b[39mwrite(\u001b[38;5;124mb\u001b[39m\u001b[38;5;124m'\u001b[39m\u001b[38;5;124mABCD EFGHI J\u001b[39m\u001b[38;5;124m'\u001b[39m)\n\u001b[0;32m      3\u001b[0m time\u001b[38;5;241m.\u001b[39msleep(\u001b[38;5;241m.001\u001b[39m)\n\u001b[1;32m----> 4\u001b[0m \u001b[38;5;28mprint\u001b[39m(ser\u001b[38;5;241m.\u001b[39mread(\u001b[38;5;241m12\u001b[39m))\n",
      "File \u001b[1;32m~\\anaconda3\\Lib\\site-packages\\serial\\serialwin32.py:295\u001b[0m, in \u001b[0;36mSerial.read\u001b[1;34m(self, size)\u001b[0m\n\u001b[0;32m    293\u001b[0m     \u001b[38;5;28;01mif\u001b[39;00m \u001b[38;5;129;01mnot\u001b[39;00m result_ok:\n\u001b[0;32m    294\u001b[0m         \u001b[38;5;28;01mif\u001b[39;00m win32\u001b[38;5;241m.\u001b[39mGetLastError() \u001b[38;5;241m!=\u001b[39m win32\u001b[38;5;241m.\u001b[39mERROR_OPERATION_ABORTED:\n\u001b[1;32m--> 295\u001b[0m             \u001b[38;5;28;01mraise\u001b[39;00m SerialException(\u001b[38;5;124m\"\u001b[39m\u001b[38;5;124mGetOverlappedResult failed (\u001b[39m\u001b[38;5;132;01m{!r}\u001b[39;00m\u001b[38;5;124m)\u001b[39m\u001b[38;5;124m\"\u001b[39m\u001b[38;5;241m.\u001b[39mformat(ctypes\u001b[38;5;241m.\u001b[39mWinError()))\n\u001b[0;32m    296\u001b[0m     read \u001b[38;5;241m=\u001b[39m buf\u001b[38;5;241m.\u001b[39mraw[:rc\u001b[38;5;241m.\u001b[39mvalue]\n\u001b[0;32m    297\u001b[0m \u001b[38;5;28;01melse\u001b[39;00m:\n",
      "\u001b[1;31mSerialException\u001b[0m: GetOverlappedResult failed (PermissionError(13, 'Access is denied.', None, 5))"
     ]
    }
   ],
   "source": [
    "#test echo (lab2)\n",
    "ser.write(b'ABCD EFGHI J')\n",
    "time.sleep(.001)\n",
    "print(ser.read(12))\n",
    "#works again after ser close + reset on pynq -> check yusuf testbench for mismatch rx and tx"
   ]
  },
  {
   "cell_type": "code",
   "execution_count": 17,
   "id": "adc4c1a8-0499-4e23-a99a-0ca94b1d40ac",
   "metadata": {},
   "outputs": [
    {
     "name": "stdout",
     "output_type": "stream",
     "text": [
      "A     =  0xae3a3839673451a54a0d237f166d01e001f2a7563b59dfc6ea5ff9804cccd5fce434f595bef5a34c8e447b899f71fb2bca8f51762fefc1920a16dab4b6cf5ca2\n",
      "B     =  0xf352590ab7df9932d9956a60ce444ef128641978c8ae63e9a141e6cd18e0c1491edc988f075e3032aa1306b93e4237ed117bf07fd233bdd766711a311b84643e\n",
      "A + B =  0x1a18c91441f13ead823a28ddfe4b150d12a56c0cf040843b08ba1e04d65ad974603118e24c653d37f38578242ddb43318dc0b41f602237f697087f4e5d253c0e0\n",
      "Result INCORRECT!\n",
      "Expected   =  0x1a18c91441f13ead823a28ddfe4b150d12a56c0cf040843b08ba1e04d65ad974603118e24c653d37f38578242ddb43318dc0b41f602237f697087f4e5d253c0e0\n",
      "Received   =  0x1a18c91441f1383d823a28ddfe4b150d12a56c0cf040843b08ba1e04db179974603118e24c653d37ec65782431bb43318ed0b41f6022340407087f4e5d253c0e0\n"
     ]
    }
   ],
   "source": [
    "#test mp adder (lab3) (problem: received missing first bit + small bit flips)\n",
    "import random\n",
    "import time\n",
    "\n",
    "OPERAND_WIDTH = 512\n",
    "\n",
    "N_BYTES = int(OPERAND_WIDTH/8)\n",
    "\n",
    "A = random.randrange(2**(OPERAND_WIDTH-1), 2**OPERAND_WIDTH-1)\n",
    "B = random.randrange(2**(OPERAND_WIDTH-1), 2**OPERAND_WIDTH-1)\n",
    "\n",
    "res = A + B\n",
    "\n",
    "print(\"A     = \", hex(A))\n",
    "print(\"B     = \", hex(B))\n",
    "print(\"A + B = \", hex(res))\n",
    "\n",
    "A_bytes = bytearray.fromhex(format(A, 'x'))\n",
    "B_bytes = bytearray.fromhex(format(B, 'x'))\n",
    "\n",
    "for op_byte in A_bytes:\n",
    "    hex_byte = (\"{0:02x}\".format(op_byte))\n",
    "    ser.write(bytearray.fromhex(hex_byte))\n",
    "    time.sleep(0.001)\n",
    "\n",
    "for op_byte in B_bytes:\n",
    "    hex_byte = (\"{0:02x}\".format(op_byte))\n",
    "    ser.write(bytearray.fromhex(hex_byte))\n",
    "    time.sleep(0.001)\n",
    "\n",
    "res_rcvd = ser.read(N_BYTES+1) \n",
    "\n",
    "res2 = int.from_bytes(res_rcvd, \"big\")\n",
    "\n",
    "if res2==res:\n",
    "    print(\"Result received correctly!\")\n",
    "    print(\"Expected   = \", hex(res))\n",
    "    print(\"Received   = \", hex(res2))\n",
    "else:\n",
    "    print(\"Result INCORRECT!\")\n",
    "    print(\"Expected   = \", hex(res))\n",
    "    print(\"Received   = \", hex(res2))"
   ]
  },
  {
   "cell_type": "code",
   "execution_count": 31,
   "id": "6f2f464c-1080-4e2c-8bb3-7f3b4dc690a2",
   "metadata": {},
   "outputs": [
    {
     "name": "stdout",
     "output_type": "stream",
     "text": [
      "Show Differences:\n",
      "Hex Expected =  1a18c91441f13ead823a28ddfe4b150d12a56c0cf040843b08ba1e04d65ad974603118e24c653d37f38578242ddb43318dc0b41f602237f697087f4e5d253c0e0\n",
      "Hex Received =  1a18c91441f1383d823a28ddfe4b150d12a56c0cf040843b08ba1e04db179974603118e24c653d37ec65782431bb43318ed0b41f6022340407087f4e5d253c0e0\n",
      "Difference   =               ^^                                          ^^^^                   ^^^     ^^^      ^^          ^^^^                \n"
     ]
    }
   ],
   "source": [
    "# Convert to hex strings without '0x' and pad with zeros if needed\n",
    "hex_expected = hex(res)[2:].zfill(8)\n",
    "hex_received = hex(res2)[2:].zfill(8)\n",
    "\n",
    "print(\"Show Differences:\")\n",
    "print(\"Hex Expected = \", hex_expected)\n",
    "print(\"Hex Received = \", hex_received)\n",
    "\n",
    "    # Highlight mismatches with '^'\n",
    "diff_string = ''.join(\n",
    "        '^' if a != b else ' ' for a, b in zip(hex_expected, hex_received)\n",
    "    )\n",
    "\n",
    "print(\"Difference   = \", diff_string)"
   ]
  }
 ],
 "metadata": {
  "kernelspec": {
   "display_name": "Python [conda env:base] *",
   "language": "python",
   "name": "conda-base-py"
  },
  "language_info": {
   "codemirror_mode": {
    "name": "ipython",
    "version": 3
   },
   "file_extension": ".py",
   "mimetype": "text/x-python",
   "name": "python",
   "nbconvert_exporter": "python",
   "pygments_lexer": "ipython3",
   "version": "3.12.7"
  }
 },
 "nbformat": 4,
 "nbformat_minor": 5
}
