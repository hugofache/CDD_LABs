{
 "cells": [
  {
   "cell_type": "code",
   "execution_count": 33,
   "id": "93ac1bf2-b7ca-4609-b1a8-7df4d1160b26",
   "metadata": {},
   "outputs": [
    {
     "name": "stdout",
     "output_type": "stream",
     "text": [
      "COM5 - USB-SERIAL CH340 (COM5)\n",
      "COM4 - USB Serial Port (COM4)\n"
     ]
    }
   ],
   "source": [
    "import serial.tools.list_ports\n",
    "ports = list(serial.tools.list_ports.comports())\n",
    "for p in ports:\n",
    "    print(p)"
   ]
  },
  {
   "cell_type": "code",
   "execution_count": 35,
   "id": "2b13f8b9-77da-4253-a809-6a12039d2a0f",
   "metadata": {},
   "outputs": [],
   "source": [
    "import serial\n",
    "import time\n",
    "ser = serial.Serial('COM5', 115200, timeout=10)"
   ]
  },
  {
   "cell_type": "code",
   "execution_count": 31,
   "id": "561e5c25-4c0a-4167-98fe-d9ffe6829153",
   "metadata": {},
   "outputs": [],
   "source": [
    "ser.close()"
   ]
  },
  {
   "cell_type": "code",
   "execution_count": 536,
   "id": "bd6642e4-679e-4a38-b193-e35c90680bc8",
   "metadata": {},
   "outputs": [
    {
     "name": "stdout",
     "output_type": "stream",
     "text": [
      "b'ABCD EFGHI J'\n"
     ]
    }
   ],
   "source": [
    "#test echo (lab2)\n",
    "ser.write(b'ABCD EFGHI J')\n",
    "time.sleep(.001)\n",
    "print(ser.read(12))\n",
    "#works again after ser close + reset on pynq -> check yusuf testbench for mismatch rx and tx"
   ]
  },
  {
   "cell_type": "code",
   "execution_count": 37,
   "id": "adc4c1a8-0499-4e23-a99a-0ca94b1d40ac",
   "metadata": {},
   "outputs": [
    {
     "name": "stdout",
     "output_type": "stream",
     "text": [
      "A     =  0x9d18fa46b292e03f3c4e26f95e5b2cd83bc6df3a3aaec0c1680856b1a1b669e6470e5c9f136281c0113506dd89993d1c3908415f795652de6c37255d2c45b526\n",
      "B     =  0xb2afe4948c4b520656aac603ab74ac578782d68b071361c8f7eb3b29ed7cc95d5f3fed9da9b9d89023e59841a348596a69495744fdf5188a62c35410352e3514\n",
      "A + B =  0x14fc8dedb3ede324592f8ecfd09cfd92fc349b5c541c2228a5ff391db8f333343a64e4a3cbd1c5a50351a9f1f2ce19686a25198a4774b6b68cefa796d6173ea3a\n",
      "Result INCORRECT!\n",
      "Expected   =  0x14fc8dedb3ede324592f8ecfd09cfd92fc349b5c541c2228a5ff391db8f333343a64e4a3cbd1c5a50351a9f1f2ce19686a25198a4774b6b68cefa796d6173ea3a\n",
      "Received   =  0x4fc8deda3ede324692f8ecfd09cfd92fc349b5c541c2228a5ff491db8f333343ed4e4a3cbd1b5a50351a9f1e2ce29687a25298a4774b6b69cefa796d6173ea3a\n"
     ]
    }
   ],
   "source": [
    "#test mp adder (lab3) (problem: received missing first bit + small bit flips)\n",
    "import random\n",
    "import time\n",
    "\n",
    "OPERAND_WIDTH = 512\n",
    "\n",
    "N_BYTES = int(OPERAND_WIDTH/8)\n",
    "\n",
    "A = random.randrange(2**(OPERAND_WIDTH-1), 2**OPERAND_WIDTH-1)\n",
    "B = random.randrange(2**(OPERAND_WIDTH-1), 2**OPERAND_WIDTH-1)\n",
    "\n",
    "res = A + B\n",
    "\n",
    "print(\"A     = \", hex(A))\n",
    "print(\"B     = \", hex(B))\n",
    "print(\"A + B = \", hex(res))\n",
    "\n",
    "A_bytes = bytearray.fromhex(format(A, 'x'))\n",
    "B_bytes = bytearray.fromhex(format(B, 'x'))\n",
    "\n",
    "for op_byte in A_bytes:\n",
    "    hex_byte = (\"{0:02x}\".format(op_byte))\n",
    "    ser.write(bytearray.fromhex(hex_byte))\n",
    "    time.sleep(0.001)\n",
    "\n",
    "for op_byte in B_bytes:\n",
    "    hex_byte = (\"{0:02x}\".format(op_byte))\n",
    "    ser.write(bytearray.fromhex(hex_byte))\n",
    "    time.sleep(0.001)\n",
    "\n",
    "res_rcvd = ser.read(N_BYTES+1) \n",
    "\n",
    "res2 = int.from_bytes(res_rcvd, \"big\")\n",
    "\n",
    "if res2==res:\n",
    "    print(\"Result received correctly!\")\n",
    "    print(\"Expected   = \", hex(res))\n",
    "    print(\"Received   = \", hex(res2))\n",
    "else:\n",
    "    print(\"Result INCORRECT!\")\n",
    "    print(\"Expected   = \", hex(res))\n",
    "    print(\"Received   = \", hex(res2))"
   ]
  }
 ],
 "metadata": {
  "kernelspec": {
   "display_name": "Python [conda env:base] *",
   "language": "python",
   "name": "conda-base-py"
  },
  "language_info": {
   "codemirror_mode": {
    "name": "ipython",
    "version": 3
   },
   "file_extension": ".py",
   "mimetype": "text/x-python",
   "name": "python",
   "nbconvert_exporter": "python",
   "pygments_lexer": "ipython3",
   "version": "3.12.7"
  }
 },
 "nbformat": 4,
 "nbformat_minor": 5
}
